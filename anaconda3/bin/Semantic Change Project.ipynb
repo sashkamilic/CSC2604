{
 "cells": [
  {
   "cell_type": "code",
   "execution_count": 260,
   "metadata": {},
   "outputs": [],
   "source": [
    "import itertools\n",
    "import os\n",
    "import re\n",
    "#import dill as pickle\n",
    "import pickle\n",
    "import numpy as np\n",
    "import matplotlib.pyplot as plt\n",
    "plt.warnings.filterwarnings(\"ignore\")\n",
    "from collections import defaultdict, namedtuple\n",
    "from urllib.request import urlopen\n",
    "from bs4 import BeautifulSoup\n",
    "from scipy.spatial.distance import cosine\n",
    "from scipy.stats import spearmanr, pearsonr\n",
    "from sklearn.metrics.pairwise import cosine_similarity\n",
    "import math\n",
    "from scipy import stats\n",
    "import statsmodels.formula.api as smf"
   ]
  },
  {
   "cell_type": "markdown",
   "metadata": {},
   "source": [
    "# Load data"
   ]
  },
  {
   "cell_type": "code",
   "execution_count": 407,
   "metadata": {},
   "outputs": [],
   "source": [
    "dir_ = '/home/sashkamilic/pretrained-vectors/eng-all/'\n",
    "changes = pickle.load(open(dir_ + 'volstats/disps.pkl', 'rb'), encoding='latin1')\n",
    "freqs = pickle.load(open(dir_ + 'freqs.pkl', 'rb'), encoding='latin1')\n",
    "poly = pickle.load(open(dir_ + 'netstats/full-nstop_nproper-top10000.pkl', 'rb'), encoding='latin1')"
   ]
  },
  {
   "cell_type": "code",
   "execution_count": 408,
   "metadata": {},
   "outputs": [],
   "source": [
    "START_YEAR = 1900"
   ]
  },
  {
   "cell_type": "code",
   "execution_count": 409,
   "metadata": {},
   "outputs": [
    {
     "name": "stdout",
     "output_type": "stream",
     "text": [
      "removed LOUSE\n",
      "removed I\n",
      "removed YOU\n",
      "removed WE\n",
      "removed GREASE\n",
      "removed WHAT\n",
      "removed CLAW\n",
      "removed WHO\n",
      "removed NOT\n",
      "removed THIS\n",
      "removed THAT\n",
      "removed ALL\n"
     ]
    }
   ],
   "source": [
    "# scraping Swadesh words\n",
    "\n",
    "SWADESH = {}\n",
    "\n",
    "pattern = re.compile(r'\\d+ \\*?([A-Za-z]+) \\(([0-9]{1,2}\\.[0-9])\\)')\n",
    "url = \"https://en.wikipedia.org/wiki/Swadesh_list\"\n",
    "page = urlopen(url)\n",
    "soup = BeautifulSoup(page, 'html.parser')\n",
    "div_ranked = soup.find_all('div', attrs={'class': 'div-col columns column-count column-count-5'})[1]\n",
    "for li in div_ranked.ol.find_all('li'):\n",
    "    text = li.text\n",
    "    m = pattern.match(text)\n",
    "    SWADESH[m.group(1)] = float(m.group(2))\n",
    "\n",
    "# remove infrequent words\n",
    "keys_ = list(SWADESH.keys())\n",
    "for w in keys_:\n",
    "    if w not in changes or math.isnan(changes[w][1900]) or math.isnan(changes[w][1990]):\n",
    "        print('removed {}'.format(w.upper()))\n",
    "        del SWADESH[w]"
   ]
  },
  {
   "cell_type": "markdown",
   "metadata": {},
   "source": [
    "### Set up dataframe"
   ]
  },
  {
   "cell_type": "code",
   "execution_count": 433,
   "metadata": {},
   "outputs": [],
   "source": [
    "import pandas as pd\n",
    "\n",
    "words = list(changes.keys())\n",
    "\n",
    "data = np.ndarray(shape=(10000,5), dtype=float)\n",
    "data[:,0] = np.array([np.arccos(changes[w][START_YEAR]) for w in words])\n",
    "data[:,1] = np.array([1 if w in SWADESH else 0 for w in words])\n",
    "#data[:,2] = np.array([np.mean([f for year,f in freqs[w].items() if YEAR <= year and year <= 1990 ]) for w in words])\n",
    "data[:,2] = np.array([freqs[w][START_YEAR] for w in words])\n",
    "#data[:,2] = np.log(data[:,2])\n",
    "#data[:,3] = np.array([np.mean([p for year,p in poly['bclust'][w].items() if YEAR <= year and year <= 1990 ]) for w in words])\n",
    "data[:,3] = np.array([-1 * poly['bclust'][w][START_YEAR] for w in words])\n",
    "#data[:,3] = -np.log(data[:,3])\n",
    "data[:,4] = data[:,1] * data[:,2] # interaction between frequency and Swadesh\n",
    "\n",
    "df = pd.DataFrame(data, columns=['change', 'is_swadesh', 'freq', 'poly', 'freq_swadesh'])"
   ]
  },
  {
   "cell_type": "markdown",
   "metadata": {},
   "source": [
    "# Q1: Do Swadesh words change less (between the 1900s and 1990s) than non-Swadesh words?"
   ]
  },
  {
   "cell_type": "code",
   "execution_count": 411,
   "metadata": {},
   "outputs": [
    {
     "data": {
      "image/png": "[encoded data removed]",
      "text/plain": [
       "<matplotlib.figure.Figure at 0x7f599240a7f0>"
      ]
     },
     "metadata": {},
     "output_type": "display_data"
    }
   ],
   "source": [
    "change_swa = df['change'].mask(~df['is_swadesh'].astype('bool')).dropna()\n",
    "change_non = df['change'].mask(df['is_swadesh'].astype('bool')).dropna()\n",
    "\n",
    "plt.boxplot([change_swa, change_non], labels=['Swadesh', 'non-Swadesh'], showbox=False, showcaps=False)\n",
    "plt.title('Changes between 1900 and 1990')\n",
    "plt.show()"
   ]
  },
  {
   "cell_type": "code",
   "execution_count": 412,
   "metadata": {},
   "outputs": [
    {
     "name": "stdout",
     "output_type": "stream",
     "text": [
      "mean change of Swadesh words:\n",
      "0.5375\n",
      "mean change of non-Swadesh words:\n",
      "0.6341\n",
      "p-value: 3.45e-13\n"
     ]
    }
   ],
   "source": [
    "st, p = stats.ttest_ind(change_swa, change_non, equal_var=False, nan_policy='omit')\n",
    "\n",
    "print(\"mean change of Swadesh words:\\n{:.4}\".format(np.nanmean(change_swa)))\n",
    "print(\"mean change of non-Swadesh words:\\n{:.4}\".format(np.nanmean(change_non)))\n",
    "print(\"p-value: {:.4}\".format(p))"
   ]
  },
  {
   "cell_type": "markdown",
   "metadata": {},
   "source": [
    "# Q1b: Does this change remain after controlling for frequency and polysemy?"
   ]
  },
  {
   "cell_type": "code",
   "execution_count": 413,
   "metadata": {},
   "outputs": [
    {
     "data": {
      "image/png": "[encoded data removed]",
      "text/plain": [
       "<matplotlib.figure.Figure at 0x7f58b0621e80>"
      ]
     },
     "metadata": {},
     "output_type": "display_data"
    }
   ],
   "source": [
    "freq_swa = df['freq'].mask(~df['is_swadesh'].astype('bool')).dropna()\n",
    "freq_non = df['freq'].mask(df['is_swadesh'].astype('bool')).dropna()\n",
    "\n",
    "plt.boxplot([np.log(freq_swa*1e6), np.log(freq_non*1e6)], labels=['Swadesh', 'non-Swadesh'], showbox=False, showcaps=False)\n",
    "plt.title('log(frequency) in 1900')\n",
    "plt.show()"
   ]
  },
  {
   "cell_type": "code",
   "execution_count": 414,
   "metadata": {},
   "outputs": [
    {
     "data": {
      "image/png": "[encoded data removed]",
      "text/plain": [
       "<matplotlib.figure.Figure at 0x7f58aff35400>"
      ]
     },
     "metadata": {},
     "output_type": "display_data"
    }
   ],
   "source": [
    "poly_swa = df['poly'].mask(~df['is_swadesh'].astype('bool')).dropna()\n",
    "poly_non = df['poly'].mask(df['is_swadesh'].astype('bool')).dropna()\n",
    "\n",
    "plt.boxplot([-np.log(-poly_swa), -np.log(-poly_non)], labels=['Swadesh', 'non-Swadesh'], showbox=False, showcaps=False)\n",
    "plt.title('log(polysemy) in 1900')\n",
    "plt.show()"
   ]
  },
  {
   "cell_type": "code",
   "execution_count": 700,
   "metadata": {},
   "outputs": [
    {
     "name": "stdout",
     "output_type": "stream",
     "text": [
      "Correlation matrix\n",
      "\n",
      "                change  is_swadesh      freq      poly  freq_swadesh\n",
      "change        1.000000   -0.068083 -0.173556  0.030409     -0.068156\n",
      "is_swadesh   -0.068083    1.000000  0.109865  0.084979      0.999987\n",
      "freq         -0.173556    0.109865  1.000000  0.639757      0.110132\n",
      "poly          0.030409    0.084979  0.639757  1.000000      0.085273\n",
      "freq_swadesh -0.068156    0.999987  0.110132  0.085273      1.000000\n",
      "\n",
      "Test for multicollinearity\n",
      "using the variance inflation factor (VIF); should be < 5.\n",
      "3.2522951936184996\n",
      "1.2662169144705702\n",
      "1.4400432497820521\n",
      "3.015418406250194\n",
      "1.564402563978904\n",
      "                            OLS Regression Results                            \n",
      "==============================================================================\n",
      "Dep. Variable:                 change   R-squared:                       0.015\n",
      "Model:                            OLS   Adj. R-squared:                  0.015\n",
      "Method:                 Least Squares   F-statistic:                     51.66\n",
      "Date:                Wed, 11 Apr 2018   Prob (F-statistic):           4.02e-33\n",
      "Time:                        17:01:25   Log-Likelihood:                 4955.3\n",
      "No. Observations:                9960   AIC:                            -9903.\n",
      "Df Residuals:                    9956   BIC:                            -9874.\n",
      "Df Model:                           3                                         \n",
      "Covariance Type:            nonrobust                                         \n",
      "================================================================================\n",
      "                   coef    std err          t      P>|t|      [0.025      0.975]\n",
      "--------------------------------------------------------------------------------\n",
      "Intercept        0.6396      0.002    408.163      0.000       0.637       0.643\n",
      "freq          -203.5323     18.801    -10.826      0.000    -240.385    -166.679\n",
      "is_swadesh      -0.0987      0.018     -5.587      0.000      -0.133      -0.064\n",
      "freq_swadesh   187.0592     42.526      4.399      0.000     103.699     270.420\n",
      "==============================================================================\n",
      "Omnibus:                     2192.252   Durbin-Watson:                   2.005\n",
      "Prob(Omnibus):                  0.000   Jarque-Bera (JB):             4934.070\n",
      "Skew:                           1.254   Prob(JB):                         0.00\n",
      "Kurtosis:                       5.366   Cond. No.                     2.95e+04\n",
      "==============================================================================\n",
      "\n",
      "Warnings:\n",
      "[1] Standard Errors assume that the covariance matrix of the errors is correctly specified.\n",
      "[2] The condition number is large, 2.95e+04. This might indicate that there are\n",
      "strong multicollinearity or other numerical problems.\n",
      "                            OLS Regression Results                            \n",
      "==============================================================================\n",
      "Dep. Variable:                 change   R-squared:                       0.016\n",
      "Model:                            OLS   Adj. R-squared:                  0.016\n",
      "Method:                 Least Squares   F-statistic:                     55.43\n",
      "Date:                Wed, 11 Apr 2018   Prob (F-statistic):           1.60e-35\n",
      "Time:                        17:01:25   Log-Likelihood:                 4960.9\n",
      "No. Observations:                9960   AIC:                            -9914.\n",
      "Df Residuals:                    9956   BIC:                            -9885.\n",
      "Df Model:                           3                                         \n",
      "Covariance Type:            nonrobust                                         \n",
      "==============================================================================\n",
      "                 coef    std err          t      P>|t|      [0.025      0.975]\n",
      "------------------------------------------------------------------------------\n",
      "Intercept      0.6521      0.003    225.685      0.000       0.646       0.658\n",
      "freq        -189.9814     17.361    -10.943      0.000    -224.013    -155.949\n",
      "poly           0.4998      0.091      5.523      0.000       0.322       0.677\n",
      "is_swadesh    -0.0681      0.016     -4.246      0.000      -0.100      -0.037\n",
      "==============================================================================\n",
      "Omnibus:                     2266.439   Durbin-Watson:                   2.003\n",
      "Prob(Omnibus):                  0.000   Jarque-Bera (JB):             5201.129\n",
      "Skew:                           1.286   Prob(JB):                         0.00\n",
      "Kurtosis:                       5.432   Cond. No.                     1.18e+04\n",
      "==============================================================================\n",
      "\n",
      "Warnings:\n",
      "[1] Standard Errors assume that the covariance matrix of the errors is correctly specified.\n",
      "[2] The condition number is large, 1.18e+04. This might indicate that there are\n",
      "strong multicollinearity or other numerical problems.\n"
     ]
    }
   ],
   "source": [
    "import statsmodels.formula.api as smf\n",
    "from statsmodels.stats.outliers_influence import variance_inflation_factor as vif\n",
    "import pandas as pd\n",
    "    \n",
    "\n",
    "print('Correlation matrix\\n')\n",
    "print(df.corr(method=\"spearman\"))\n",
    "\n",
    "# test significance\n",
    "\"\"\"\n",
    "labels = ['change', 'is_swadesh', 'freq', 'poly', 'interaction']\n",
    "for i in range(5):\n",
    "    for j in range(i+1):\n",
    "        print(labels[i], labels[j])\n",
    "        print(spearmanr(df[labels[i]], df[labels[j]], nan_policy='omit').pvalue)\n",
    "#\"\"\"\n",
    "\n",
    "print(\"\\nTest for multicollinearity\")\n",
    "print(\"using the variance inflation factor (VIF); should be < 5.\")\n",
    "data_ = data[~np.isnan(data).any(axis=1)]\n",
    "print(vif(data_, 0))\n",
    "print(vif(data_, 1))\n",
    "print(vif(data_, 2))\n",
    "print(vif(data_, 3))\n",
    "print(vif(data_, 4))\n",
    "\n",
    "\n",
    "model = smf.ols(formula=\"change ~ freq + is_swadesh + freq_swadesh\", data=df).fit()\n",
    "print(model.summary())\n",
    "\n",
    "model = smf.ols(formula=\"change ~ freq + poly + is_swadesh\", data=df).fit()\n",
    "print(model.summary())"
   ]
  },
  {
   "cell_type": "code",
   "execution_count": 446,
   "metadata": {},
   "outputs": [
    {
     "data": {
      "text/plain": [
       "SpearmanrResult(correlation=0.09938008523827975, pvalue=0.3569349330299191)"
      ]
     },
     "execution_count": 446,
     "metadata": {},
     "output_type": "execute_result"
    },
    {
     "data": {
      "image/png": "[encoded data removed]",
      "text/plain": [
       "<matplotlib.figure.Figure at 0x7f58cd15e518>"
      ]
     },
     "metadata": {},
     "output_type": "display_data"
    }
   ],
   "source": [
    "logfreq_swa = np.log(1e6*freq_swa)\n",
    "plt.scatter(logfreq_swa, change_swa)\n",
    "spearmanr(logfreq_swa, change_swa)"
   ]
  },
  {
   "cell_type": "code",
   "execution_count": 447,
   "metadata": {},
   "outputs": [
    {
     "data": {
      "text/plain": [
       "SpearmanrResult(correlation=0.07967313585291115, pvalue=0.4605825719493267)"
      ]
     },
     "execution_count": 447,
     "metadata": {},
     "output_type": "execute_result"
    },
    {
     "data": {
      "image/png": "[encoded data removed]",
      "text/plain": [
       "<matplotlib.figure.Figure at 0x7f58cd1874a8>"
      ]
     },
     "metadata": {},
     "output_type": "display_data"
    }
   ],
   "source": [
    "plt.scatter(poly_swa, change_swa)\n",
    "spearmanr(poly_swa, change_swa)"
   ]
  },
  {
   "cell_type": "markdown",
   "metadata": {},
   "source": [
    "## Q2: Is there a correlation between these \"changes\" and the stability measure?\n",
    "(Stability: Holman et al., 2008)"
   ]
  },
  {
   "cell_type": "code",
   "execution_count": 687,
   "metadata": {},
   "outputs": [
    {
     "data": {
      "text/plain": [
       "SpearmanrResult(correlation=-0.026541269321863778, pvalue=0.8060983904662611)"
      ]
     },
     "execution_count": 687,
     "metadata": {},
     "output_type": "execute_result"
    }
   ],
   "source": [
    "swa = list(SWADESH.keys())\n",
    "change_swa = np.array([np.arccos(changes[w][1900]) for w in swa])\n",
    "stability_swa = np.array([SWADESH[w] for w in swa])\n",
    "\n",
    "spearmanr(change_swa, stability_swa)"
   ]
  },
  {
   "cell_type": "code",
   "execution_count": 756,
   "metadata": {},
   "outputs": [
    {
     "data": {
      "image/png": "[encoded data removed]",
      "text/plain": [
       "<matplotlib.figure.Figure at 0x7f58ca5f2358>"
      ]
     },
     "metadata": {},
     "output_type": "display_data"
    },
    {
     "data": {
      "image/png": "[encoded data removed]",
      "text/plain": [
       "<matplotlib.figure.Figure at 0x7f58ca585400>"
      ]
     },
     "metadata": {},
     "output_type": "display_data"
    }
   ],
   "source": [
    "# creating set of data with same distribution\n",
    "plt.hist(logfreq_swa, bins=20)\n",
    "plt.show()\n",
    "plt.hist(np.log(poly_swa), bins=20)\n",
    "plt.show()"
   ]
  },
  {
   "cell_type": "markdown",
   "metadata": {},
   "source": [
    "# Create a matched sample set\n",
    "And test to see if there is a significant difference between the matched set and the Swadesh list"
   ]
  },
  {
   "cell_type": "code",
   "execution_count": 881,
   "metadata": {},
   "outputs": [
    {
     "name": "stdout",
     "output_type": "stream",
     "text": [
      "unmatched: one\n",
      "unmatched: water\n",
      "unmatched: man\n",
      "85\n"
     ]
    }
   ],
   "source": [
    "#freqs\n",
    "#poly\n",
    "\n",
    "from random import shuffle\n",
    "random.seed(5)\n",
    "#random.seed(10)\n",
    "\n",
    "# reference: SWADESH list\n",
    "non_swadesh = [w for w in words if w not in SWADESH]\n",
    "shuffle(non_swadesh)\n",
    "\n",
    "std_freq_swa = np.std(freq_swa)\n",
    "std_poly_swa = np.std(poly_swa)\n",
    "#std_swa = np.std(-np.log(poly_swa) - np.log(freq_swa*1e6))\n",
    "#print(std_swa)\n",
    "#print(np.mean(-np.log(poly_swa) - np.log(freq_swa*1e6)))\n",
    "\n",
    "matched = []\n",
    "swa = list(SWADESH.keys())\n",
    "shuffle(swa)\n",
    "# hardest to match words:\n",
    "swa.remove(\"one\")\n",
    "swa.remove(\"water\")\n",
    "swa.remove(\"two\")\n",
    "swa.remove(\"man\")\n",
    "swa = [\"one\", \"water\", \"two\", \"man\"] + swa\n",
    "for i,w in enumerate(swa):\n",
    "    for w2 in non_swadesh:\n",
    "        #print(w2)\n",
    "        if w2 not in freqs or w2 not in poly['bclust']:\n",
    "            continue\n",
    "        if START_YEAR not in freqs[w2]:\n",
    "            continue\n",
    "        if START_YEAR not in poly['bclust'][w2]:\n",
    "            continue\n",
    "\n",
    "        if w2 not in matched:\n",
    "            #'''\n",
    "            if abs(freqs[w2][START_YEAR] - freqs[w][START_YEAR]) < 0.16*std_freq_swa:\n",
    "                if abs(poly['bclust'][w2][START_YEAR] - poly['bclust'][w][START_YEAR]) < 0.2*std_poly_swa:\n",
    "                    matched.append(w2)\n",
    "                    break\n",
    "            #'''\n",
    "            '''\n",
    "            if abs((-np.log(poly['bclust'][w2][START_YEAR]) - np.log(freqs[w2][START_YEAR]*1e6)) - \n",
    "                   (-np.log(poly['bclust'][w][START_YEAR]) - np.log(freqs[w][START_YEAR]*1e6))) < 0.2*std_swa:\n",
    "                matched.append(w2)\n",
    "                break\n",
    "            '''\n",
    "                \n",
    "    else:\n",
    "        print(\"unmatched: {}\".format(w))\n",
    "\n",
    "print(len(matched))\n",
    "#print(matched)"
   ]
  },
  {
   "cell_type": "code",
   "execution_count": 882,
   "metadata": {},
   "outputs": [],
   "source": [
    "OMIT = ['one', 'water']\n",
    "#OMIT = []"
   ]
  },
  {
   "cell_type": "code",
   "execution_count": 883,
   "metadata": {},
   "outputs": [
    {
     "name": "stdout",
     "output_type": "stream",
     "text": [
      "0.061514011755227645\n"
     ]
    },
    {
     "data": {
      "image/png": "[encoded data removed]",
      "text/plain": [
       "<matplotlib.figure.Figure at 0x7f58cd1b4898>"
      ]
     },
     "metadata": {},
     "output_type": "display_data"
    }
   ],
   "source": [
    "#change_swa = df['change'].mask(~df['is_swadesh'].astype('bool')).dropna()\n",
    "#change_mat = pd.DataFrame([np.arccos(changes[w][START_YEAR]) for w in matched])\n",
    "freq_mat = np.array([freqs[w][START_YEAR] for w in matched])\n",
    "freq_swa = np.array([freqs[w][START_YEAR] for w in swa if w not in OMIT])\n",
    "#plt.boxplot([change_swa, change_non], labels=['Swadesh', 'non-Swadesh'], showbox=False, showcaps=False)\n",
    "#plt.title('Changes between 1900 and 1990')\n",
    "#plt.show()\n",
    "\n",
    "st, p = stats.ttest_ind(np.log(freq_swa*1e6), np.log(freq_mat*1e6), equal_var=False, nan_policy='omit')\n",
    "\n",
    "print(p)\n",
    "\n",
    "plt.boxplot([np.log(freq_swa*1e6), np.log(freq_mat*1e6)], labels=['Swadesh', 'matched'], showbox=False, showcaps=False)\n",
    "plt.title('log(frequency) in 1900')\n",
    "plt.show()"
   ]
  },
  {
   "cell_type": "code",
   "execution_count": 884,
   "metadata": {},
   "outputs": [
    {
     "name": "stdout",
     "output_type": "stream",
     "text": [
      "0.8478855452160879\n"
     ]
    },
    {
     "data": {
      "image/png": "[encoded data removed]",
      "text/plain": [
       "<matplotlib.figure.Figure at 0x7f58cb134b00>"
      ]
     },
     "metadata": {},
     "output_type": "display_data"
    }
   ],
   "source": [
    "poly_mat = np.array([poly['bclust'][w][START_YEAR] for w in matched])\n",
    "poly_swa = np.array([poly['bclust'][w][START_YEAR] for w in swa if w not in OMIT])\n",
    "#plt.boxplot([change_swa, change_non], labels=['Swadesh', 'non-Swadesh'], showbox=False, showcaps=False)\n",
    "#plt.title('Changes between 1900 and 1990')\n",
    "#plt.show()\n",
    "\n",
    "st, p = stats.ttest_ind(poly_swa, poly_mat, equal_var=False, nan_policy='omit')\n",
    "\n",
    "print(p)\n",
    "\n",
    "plt.boxplot([-np.log(poly_swa), -np.log(poly_mat)], labels=['Swadesh', 'matched'], showbox=False, showcaps=False)\n",
    "plt.title('log(polysemy) in 1900')\n",
    "plt.show()"
   ]
  },
  {
   "cell_type": "code",
   "execution_count": 885,
   "metadata": {},
   "outputs": [
    {
     "name": "stdout",
     "output_type": "stream",
     "text": [
      "0.004496163790841715\n"
     ]
    },
    {
     "data": {
      "image/png": "[encoded data removed]",
      "text/plain": [
       "<matplotlib.figure.Figure at 0x7f58cb0e2630>"
      ]
     },
     "metadata": {},
     "output_type": "display_data"
    }
   ],
   "source": [
    "poly_mat = np.array([poly['bclust'][w][START_YEAR] for w in matched])\n",
    "poly_swa = np.array([poly['bclust'][w][START_YEAR] for w in swa if w not in OMIT])\n",
    "#plt.boxplot([change_swa, change_non], labels=['Swadesh', 'non-Swadesh'], showbox=False, showcaps=False)\n",
    "#plt.title('Changes between 1900 and 1990')\n",
    "#plt.show()\n",
    "\n",
    "st, p = stats.ttest_ind(-np.log(poly_swa) - np.log(freq_swa*1e6), -np.log(poly_mat) - np.log(freq_mat*1e6), nan_policy='omit')\n",
    "\n",
    "print(p)\n",
    "\n",
    "plt.boxplot([-np.log(poly_swa) - np.log(freq_swa*1e6), -np.log(poly_mat) - np.log(freq_mat*1e6)], labels=['Swadesh', 'matched'], showbox=False, showcaps=False)\n",
    "plt.title('log(polysemy) - log(frequency) in 1900')\n",
    "plt.show()"
   ]
  },
  {
   "cell_type": "code",
   "execution_count": 886,
   "metadata": {},
   "outputs": [
    {
     "name": "stdout",
     "output_type": "stream",
     "text": [
      "7.66789327310931e-06\n"
     ]
    },
    {
     "data": {
      "image/png": "[encoded data removed]",
      "text/plain": [
       "<matplotlib.figure.Figure at 0x7f58cb103f28>"
      ]
     },
     "metadata": {},
     "output_type": "display_data"
    }
   ],
   "source": [
    "change_mat = np.array([np.arccos(changes[w][START_YEAR]) for w in matched])\n",
    "change_swa = np.array([np.arccos(changes[w][START_YEAR]) for w in swa if w not in OMIT])\n",
    "#plt.boxplot([change_swa, change_non], labels=['Swadesh', 'non-Swadesh'], showbox=False, showcaps=False)\n",
    "#plt.title('Changes between 1900 and 1990')\n",
    "#plt.show()\n",
    "\n",
    "st, p = stats.ttest_ind(change_swa, change_mat, equal_var=False, nan_policy='omit')\n",
    "print(p)\n",
    "\n",
    "plt.boxplot([change_swa, change_mat], labels=['Swadesh', 'matched'], showbox=False, showcaps=False)\n",
    "plt.title('Changes between 1900 and 1990')\n",
    "plt.show()"
   ]
  },
  {
   "cell_type": "markdown",
   "metadata": {},
   "source": [
    "# Some qualitative observations"
   ]
  },
  {
   "cell_type": "markdown",
   "metadata": {},
   "source": [
    "Which words in the Swadesh list have apparently changed the most?"
   ]
  },
  {
   "cell_type": "code",
   "execution_count": 688,
   "metadata": {
    "scrolled": false
   },
   "outputs": [
    {
     "data": {
      "text/plain": [
       "[('new', 0.8858179431028217),\n",
       " ('breasts', 0.8708431276426104),\n",
       " ('mouth', 0.7669193987488072),\n",
       " ('horn', 0.7514356456405993),\n",
       " ('see', 0.72475632943409)]"
      ]
     },
     "execution_count": 688,
     "metadata": {},
     "output_type": "execute_result"
    }
   ],
   "source": [
    "sorted(list(zip(swa, list(change_swa))), key=lambda t: t[1], reverse=True)[:5]"
   ]
  },
  {
   "cell_type": "code",
   "execution_count": 423,
   "metadata": {},
   "outputs": [
    {
     "name": "stdout",
     "output_type": "stream",
     "text": [
      "NEW in 1900\n",
      "new, york, yorkers, poughkeepsie, bridgeport, yonkers, otsego, whittaker, elizabethtown, jersey, tulane, haven, rutgers, rotherham, chicago, otago, crowell, boston, peekskill, wagnalls, albany, brooklyn, hampshire, adirondack, elmira, herkimer, newberry, 34th, greenfield, queensland\n",
      "NEW in 1990\n",
      "new, york, ny, huebsch, macmillan, brunswick, bramhall, wittenborn, taplinger, benziger, bronxville, larchmont, schocken, irvington, jersey, halsted, whittlesey, haven, scribner, brooklyn, islip, 10002, doubleday, braziller, vintage, duffield, elek, praeger, schirmer, albany\n",
      "BREASTS in 1900\n",
      "breasts, bosoms, breast, hearts, rankling, nourished, mothers, bosom, nipples, beatings, thighs, tingled, livers, sicknesses, tunics, chins, bedewed, loins, kindliest, knits, entwined, swelled, skinny, coronets, womb, foreheads, bared, gnashed, freckles, instilling\n",
      "BREASTS in 1990\n",
      "breasts, thighs, hips, buttocks, breast, chest, cheeks, waist, cheek, abdomen, clasped, belly, shoulders, softness, bosom, swell, knees, kissed, palms, legs, genitals, pubic, her, uterus, hair, pendulous, lips, stroked, nipples, boneless\n",
      "MOUTH in 1900\n",
      "mouth, mouths, pei, protrudes, nose, nostrils, lips, yangtse, estuary, esk, cuyahoga, frothing, pecos, river, brazos, pharynx, throat, tiber, platte, lip, gorge, jaws, protrude, raisin, confluence, zambezi, upstream, anus, gag, rio\n",
      "MOUTH in 1990\n",
      "mouth, lips, mouths, nose, throat, licked, tongue, nostrils, frothing, pouting, eyes, ear, jaw, exhaling, ears, hers, cheek, smacking, proceedeth, handkerchief, pharynx, chewed, sucked, frenulum, spat, anus, twitched, napkin, cigar, nipple\n",
      "HORN in 1900\n",
      "horn, horns, triton, trumpet, oboe, bugle, clarinet, porpoise, pouch, bassoon, egmont, ram, bighorn, clangor, reedy, stag, vasco, flute, fork, oboes, conch, canyons, astarte, tambourine, prong, impaled, berghen, slung, fifes, rhinoceros\n",
      "HORN in 1990\n",
      "horn, horns, bassoon, honking, trombone, honk, toot, cape, cochlea, plexus, dorsal, trumpet, clarinets, blare, shofar, interneurons, conch, saxophone, spinal, omo, ventral, serenade, gelatinosa, tuba, clarinet, medial, turbinate, monkey, snapper, lateral\n",
      "SEE in 1900\n",
      "see, hear, glad, delighted, i, you, we, know, page, tell, textbooks, surprised, find, surprized, look, 189, sorry, 243, clavigera, 205, 207, perceive, how, amazed, 226, ailed, why, 206, understand, 238\n",
      "SEE in 1990\n",
      "see, you, figure, chapter, look, ll, tell, we, table, hear, page, again, want, why, glad, dialog, ref, learn, surprised, how, saw, i, tonight, section, here, supra, show, looks, summarised, remember\n"
     ]
    }
   ],
   "source": [
    "from sklearn.metrics.pairwise import pairwise_distances\n",
    "\n",
    "vector_dir = '/home/sashkamilic/pretrained-vectors/sgns/'\n",
    "\n",
    "word_vectors = {}\n",
    "\n",
    "word_vectors[1900] = np.load(vector_dir + '1900-w.npy'), np.load(vector_dir + '1900-vocab.pkl')\n",
    "word_vectors[1990] = np.load(vector_dir + '1990-w.npy'), np.load(vector_dir + '1990-vocab.pkl')\n",
    "\n",
    "for w in ['new', 'breasts', 'mouth', 'horn', 'see']:\n",
    "    for year in [1900, 1990]:\n",
    "        print(\"{} in {}\".format(w.upper(), year))\n",
    "        vecs, vocab = word_vectors[year]\n",
    "        res = pairwise_distances([vecs[vocab.index(w)]], vecs, metric='cosine')[0]\n",
    "        indices = sorted(range(len(res)), key=lambda k: res[k])\n",
    "        print(', '.join(np.array(vocab)[indices[:30]]))"
   ]
  }
 ],
 "metadata": {
  "kernelspec": {
   "display_name": "Python 3",
   "language": "python",
   "name": "python3"
  },
  "language_info": {
   "codemirror_mode": {
    "name": "ipython",
    "version": 3
   },
   "file_extension": ".py",
   "mimetype": "text/x-python",
   "name": "python",
   "nbconvert_exporter": "python",
   "pygments_lexer": "ipython3",
   "version": "3.6.4"
  }
 },
 "nbformat": 4,
 "nbformat_minor": 2
}
