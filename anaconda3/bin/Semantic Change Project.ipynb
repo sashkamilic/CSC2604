{
 "cells": [
  {
   "cell_type": "code",
   "execution_count": 260,
   "metadata": {},
   "outputs": [],
   "source": [
    "import itertools\n",
    "import os\n",
    "import re\n",
    "#import dill as pickle\n",
    "import pickle\n",
    "import numpy as np\n",
    "import matplotlib.pyplot as plt\n",
    "plt.warnings.filterwarnings(\"ignore\")\n",
    "from collections import defaultdict, namedtuple\n",
    "from urllib.request import urlopen\n",
    "from bs4 import BeautifulSoup\n",
    "from scipy.spatial.distance import cosine\n",
    "from scipy.stats import spearmanr, pearsonr\n",
    "from sklearn.metrics.pairwise import cosine_similarity\n",
    "import math\n",
    "from scipy import stats\n",
    "import statsmodels.formula.api as smf"
   ]
  },
  {
   "cell_type": "markdown",
   "metadata": {},
   "source": [
    "# Load data"
   ]
  },
  {
   "cell_type": "code",
   "execution_count": 407,
   "metadata": {},
   "outputs": [],
   "source": [
    "dir_ = '/home/sashkamilic/pretrained-vectors/eng-all/'\n",
    "changes = pickle.load(open(dir_ + 'volstats/disps.pkl', 'rb'), encoding='latin1')\n",
    "freqs = pickle.load(open(dir_ + 'freqs.pkl', 'rb'), encoding='latin1')\n",
    "poly = pickle.load(open(dir_ + 'netstats/full-nstop_nproper-top10000.pkl', 'rb'), encoding='latin1')"
   ]
  },
  {
   "cell_type": "code",
   "execution_count": 408,
   "metadata": {},
   "outputs": [],
   "source": [
    "START_YEAR = 1900"
   ]
  },
  {
   "cell_type": "code",
   "execution_count": 409,
   "metadata": {},
   "outputs": [
    {
     "name": "stdout",
     "output_type": "stream",
     "text": [
      "removed LOUSE\n",
      "removed I\n",
      "removed YOU\n",
      "removed WE\n",
      "removed GREASE\n",
      "removed WHAT\n",
      "removed CLAW\n",
      "removed WHO\n",
      "removed NOT\n",
      "removed THIS\n",
      "removed THAT\n",
      "removed ALL\n"
     ]
    }
   ],
   "source": [
    "# scraping Swadesh words\n",
    "\n",
    "SWADESH = {}\n",
    "\n",
    "pattern = re.compile(r'\\d+ \\*?([A-Za-z]+) \\(([0-9]{1,2}\\.[0-9])\\)')\n",
    "url = \"https://en.wikipedia.org/wiki/Swadesh_list\"\n",
    "page = urlopen(url)\n",
    "soup = BeautifulSoup(page, 'html.parser')\n",
    "div_ranked = soup.find_all('div', attrs={'class': 'div-col columns column-count column-count-5'})[1]\n",
    "for li in div_ranked.ol.find_all('li'):\n",
    "    text = li.text\n",
    "    m = pattern.match(text)\n",
    "    SWADESH[m.group(1)] = float(m.group(2))\n",
    "\n",
    "# remove infrequent words\n",
    "keys_ = list(SWADESH.keys())\n",
    "for w in keys_:\n",
    "    if w not in changes or math.isnan(changes[w][1900]) or math.isnan(changes[w][1990]):\n",
    "        print('removed {}'.format(w.upper()))\n",
    "        del SWADESH[w]"
   ]
  },
  {
   "cell_type": "markdown",
   "metadata": {},
   "source": [
    "### Set up dataframe"
   ]
  },
  {
   "cell_type": "code",
   "execution_count": 410,
   "metadata": {},
   "outputs": [],
   "source": [
    "import pandas as pd\n",
    "\n",
    "words = list(changes.keys())\n",
    "\n",
    "data = np.ndarray(shape=(10000,4), dtype=float)\n",
    "data[:,0] = np.array([np.arccos(changes[w][START_YEAR]) for w in words])\n",
    "data[:,1] = np.array([1 if w in SWADESH else 0 for w in words])\n",
    "#data[:,2] = np.array([np.mean([f for year,f in freqs[w].items() if YEAR <= year and year <= 1990 ]) for w in words])\n",
    "data[:,2] = np.array([freqs[w][START_YEAR] for w in words])\n",
    "#data[:,2] = np.log(data[:,2])\n",
    "#data[:,3] = np.array([np.mean([p for year,p in poly['bclust'][w].items() if YEAR <= year and year <= 1990 ]) for w in words])\n",
    "data[:,3] = np.array([-1 * poly['bclust'][w][START_YEAR] for w in words])\n",
    "#data[:,3] = -np.log(data[:,3])\n",
    "\n",
    "df = pd.DataFrame(data, columns=['change', 'is_swadesh', 'freq', 'poly'])"
   ]
  },
  {
   "cell_type": "markdown",
   "metadata": {},
   "source": [
    "### Q1: Do Swadesh words change less (between the 1900s and 1990s) than non-Swadesh words?"
   ]
  },
  {
   "cell_type": "code",
   "execution_count": 411,
   "metadata": {},
   "outputs": [
    {
     "data": {
      "image/png": "[encoded data removed]",
      "text/plain": [
       "<matplotlib.figure.Figure at 0x7f599240a7f0>"
      ]
     },
     "metadata": {},
     "output_type": "display_data"
    }
   ],
   "source": [
    "change_swa = df['change'].mask(~df['is_swadesh'].astype('bool')).dropna()\n",
    "change_non = df['change'].mask(df['is_swadesh'].astype('bool')).dropna()\n",
    "\n",
    "plt.boxplot([change_swa, change_non], labels=['Swadesh', 'non-Swadesh'], showbox=False, showcaps=False)\n",
    "plt.title('Changes between 1900 and 1990')\n",
    "plt.show()"
   ]
  },
  {
   "cell_type": "code",
   "execution_count": 412,
   "metadata": {},
   "outputs": [
    {
     "name": "stdout",
     "output_type": "stream",
     "text": [
      "mean change of Swadesh words:\n",
      "0.5375\n",
      "mean change of non-Swadesh words:\n",
      "0.6341\n",
      "p-value: 3.45e-13\n"
     ]
    }
   ],
   "source": [
    "st, p = stats.ttest_ind(change_swa, change_non, equal_var=False, nan_policy='omit')\n",
    "\n",
    "print(\"mean change of Swadesh words:\\n{:.4}\".format(np.nanmean(change_swa)))\n",
    "print(\"mean change of non-Swadesh words:\\n{:.4}\".format(np.nanmean(change_non)))\n",
    "print(\"p-value: {:.4}\".format(p))"
   ]
  },
  {
   "cell_type": "markdown",
   "metadata": {},
   "source": [
    "### Q1b: Does this change remain after controlling for frequency and polysemy?"
   ]
  },
  {
   "cell_type": "code",
   "execution_count": 413,
   "metadata": {},
   "outputs": [
    {
     "data": {
      "image/png": "[encoded data removed]",
      "text/plain": [
       "<matplotlib.figure.Figure at 0x7f58b0621e80>"
      ]
     },
     "metadata": {},
     "output_type": "display_data"
    }
   ],
   "source": [
    "freq_swa = df['freq'].mask(~df['is_swadesh'].astype('bool')).dropna()\n",
    "freq_non = df['freq'].mask(df['is_swadesh'].astype('bool')).dropna()\n",
    "\n",
    "plt.boxplot([np.log(freq_swa*1e6), np.log(freq_non*1e6)], labels=['Swadesh', 'non-Swadesh'], showbox=False, showcaps=False)\n",
    "plt.title('log(frequency) in 1900')\n",
    "plt.show()"
   ]
  },
  {
   "cell_type": "code",
   "execution_count": 414,
   "metadata": {},
   "outputs": [
    {
     "data": {
      "image/png": "[encoded data removed]",
      "text/plain": [
       "<matplotlib.figure.Figure at 0x7f58aff35400>"
      ]
     },
     "metadata": {},
     "output_type": "display_data"
    }
   ],
   "source": [
    "poly_swa = df['poly'].mask(~df['is_swadesh'].astype('bool')).dropna()\n",
    "poly_non = df['poly'].mask(df['is_swadesh'].astype('bool')).dropna()\n",
    "\n",
    "plt.boxplot([-np.log(-poly_swa), -np.log(-poly_non)], labels=['Swadesh', 'non-Swadesh'], showbox=False, showcaps=False)\n",
    "plt.title('log(polysemy) in 1900')\n",
    "plt.show()"
   ]
  },
  {
   "cell_type": "code",
   "execution_count": 415,
   "metadata": {},
   "outputs": [
    {
     "name": "stdout",
     "output_type": "stream",
     "text": [
      "Correlation matrix\n",
      "\n",
      "              change  is_swadesh      freq      poly\n",
      "change      1.000000   -0.068083 -0.173556  0.030409\n",
      "is_swadesh -0.068083    1.000000  0.109865  0.084979\n",
      "freq       -0.173556    0.109865  1.000000  0.639757\n",
      "poly        0.030409    0.084979  0.639757  1.000000\n",
      "\n",
      "Test for multicollinearity\n",
      "using the variance inflation factor (VIF); should be < 5.\n",
      "1.046531362737082\n"
     ]
    }
   ],
   "source": [
    "import statsmodels.formula.api as smf\n",
    "from statsmodels.stats.outliers_influence import variance_inflation_factor as vif\n",
    "import pandas as pd\n",
    "    \n",
    "\n",
    "print('Correlation matrix\\n')\n",
    "print(df.corr(method=\"spearman\"))\n",
    "\n",
    "# test significance\n",
    "\"\"\"\n",
    "labels = ['change', 'is_swadesh', 'freq', 'poly', 'interaction']\n",
    "for i in range(5):\n",
    "    for j in range(i+1):\n",
    "        print(labels[i], labels[j])\n",
    "        print(spearmanr(df[labels[i]], df[labels[j]], nan_policy='omit').pvalue)\n",
    "#\"\"\"\n",
    "\n",
    "print(\"\\nTest for multicollinearity\")\n",
    "print(\"using the variance inflation factor (VIF); should be < 5.\")\n",
    "data_ = data[~np.isnan(data).any(axis=1)]\n",
    "print(vif(data_, 1))\n",
    "\n",
    "#model = smf.ols(formula=\"change ~ freq + is_swadesh\", data=df).fit()\n",
    "#print(model.summary())\n",
    "\n",
    "#model = smf.ols(formula=\"change ~ poly + is_swadesh\", data=df).fit()\n",
    "#print(model.summary())"
   ]
  },
  {
   "cell_type": "code",
   "execution_count": 416,
   "metadata": {},
   "outputs": [
    {
     "name": "stdout",
     "output_type": "stream",
     "text": [
      "[8.72479238e-03 2.89466720e-04 7.18477385e-09]\n",
      "[9.67887136e-01 3.21120667e-02 7.97044776e-07]\n",
      "3\n",
      "[0.00872479 0.00028947]\n",
      "[0.96788714 0.03211207]\n",
      "2\n"
     ]
    }
   ],
   "source": [
    "from sklearn.decomposition import PCA\n",
    "pca = PCA(n_components = 3, svd_solver='full')\n",
    "\n",
    "pca.fit(data[:,[1,2,3]])\n",
    "\n",
    "print(pca.explained_variance_)\n",
    "print(pca.explained_variance_ratio_)\n",
    "print(pca.n_components_)\n",
    "\n",
    "from sklearn.decomposition import PCA\n",
    "pca = PCA(n_components = 'mle', svd_solver='full')\n",
    "\n",
    "pca.fit(data[:,[1,2,3]])\n",
    "\n",
    "print(pca.explained_variance_)\n",
    "print(pca.explained_variance_ratio_)\n",
    "print(pca.n_components_)"
   ]
  },
  {
   "cell_type": "markdown",
   "metadata": {},
   "source": [
    "## Q2: Is there a correlation between these \"changes\" and the stability measure?\n",
    "(Stability: Holman et al., 2008)"
   ]
  },
  {
   "cell_type": "code",
   "execution_count": 417,
   "metadata": {},
   "outputs": [
    {
     "data": {
      "text/plain": [
       "SpearmanrResult(correlation=-0.026541269321863778, pvalue=0.8060983904662611)"
      ]
     },
     "execution_count": 417,
     "metadata": {},
     "output_type": "execute_result"
    }
   ],
   "source": [
    "swa = list(SWADESH.keys())\n",
    "change_swa = np.array([np.arccos(changes[w][1900]) for w in swa])\n",
    "stability_swa = np.array([SWADESH[w] for w in swa])\n",
    "\n",
    "spearmanr(change_swa, stability_swa)"
   ]
  },
  {
   "cell_type": "markdown",
   "metadata": {},
   "source": [
    "# Some qualitative observations"
   ]
  },
  {
   "cell_type": "markdown",
   "metadata": {},
   "source": [
    "Which words in the Swadesh list have apparently changed the most? Note: \"one\" is the only outlier according to the boxplots above."
   ]
  },
  {
   "cell_type": "code",
   "execution_count": 418,
   "metadata": {},
   "outputs": [
    {
     "data": {
      "text/plain": [
       "[('new', 0.8858179431028217),\n",
       " ('breasts', 0.8708431276426104),\n",
       " ('mouth', 0.7669193987488072),\n",
       " ('horn', 0.7514356456405993),\n",
       " ('see', 0.72475632943409)]"
      ]
     },
     "execution_count": 418,
     "metadata": {},
     "output_type": "execute_result"
    }
   ],
   "source": [
    "sorted(list(zip(swa, list(change_swa))), key=lambda t: t[1], reverse=True)[:5]"
   ]
  },
  {
   "cell_type": "code",
   "execution_count": 423,
   "metadata": {},
   "outputs": [
    {
     "name": "stdout",
     "output_type": "stream",
     "text": [
      "NEW in 1900\n",
      "new, york, yorkers, poughkeepsie, bridgeport, yonkers, otsego, whittaker, elizabethtown, jersey, tulane, haven, rutgers, rotherham, chicago, otago, crowell, boston, peekskill, wagnalls, albany, brooklyn, hampshire, adirondack, elmira, herkimer, newberry, 34th, greenfield, queensland\n",
      "NEW in 1990\n",
      "new, york, ny, huebsch, macmillan, brunswick, bramhall, wittenborn, taplinger, benziger, bronxville, larchmont, schocken, irvington, jersey, halsted, whittlesey, haven, scribner, brooklyn, islip, 10002, doubleday, braziller, vintage, duffield, elek, praeger, schirmer, albany\n",
      "BREASTS in 1900\n",
      "breasts, bosoms, breast, hearts, rankling, nourished, mothers, bosom, nipples, beatings, thighs, tingled, livers, sicknesses, tunics, chins, bedewed, loins, kindliest, knits, entwined, swelled, skinny, coronets, womb, foreheads, bared, gnashed, freckles, instilling\n",
      "BREASTS in 1990\n",
      "breasts, thighs, hips, buttocks, breast, chest, cheeks, waist, cheek, abdomen, clasped, belly, shoulders, softness, bosom, swell, knees, kissed, palms, legs, genitals, pubic, her, uterus, hair, pendulous, lips, stroked, nipples, boneless\n",
      "MOUTH in 1900\n",
      "mouth, mouths, pei, protrudes, nose, nostrils, lips, yangtse, estuary, esk, cuyahoga, frothing, pecos, river, brazos, pharynx, throat, tiber, platte, lip, gorge, jaws, protrude, raisin, confluence, zambezi, upstream, anus, gag, rio\n",
      "MOUTH in 1990\n",
      "mouth, lips, mouths, nose, throat, licked, tongue, nostrils, frothing, pouting, eyes, ear, jaw, exhaling, ears, hers, cheek, smacking, proceedeth, handkerchief, pharynx, chewed, sucked, frenulum, spat, anus, twitched, napkin, cigar, nipple\n",
      "HORN in 1900\n",
      "horn, horns, triton, trumpet, oboe, bugle, clarinet, porpoise, pouch, bassoon, egmont, ram, bighorn, clangor, reedy, stag, vasco, flute, fork, oboes, conch, canyons, astarte, tambourine, prong, impaled, berghen, slung, fifes, rhinoceros\n",
      "HORN in 1990\n",
      "horn, horns, bassoon, honking, trombone, honk, toot, cape, cochlea, plexus, dorsal, trumpet, clarinets, blare, shofar, interneurons, conch, saxophone, spinal, omo, ventral, serenade, gelatinosa, tuba, clarinet, medial, turbinate, monkey, snapper, lateral\n",
      "SEE in 1900\n",
      "see, hear, glad, delighted, i, you, we, know, page, tell, textbooks, surprised, find, surprized, look, 189, sorry, 243, clavigera, 205, 207, perceive, how, amazed, 226, ailed, why, 206, understand, 238\n",
      "SEE in 1990\n",
      "see, you, figure, chapter, look, ll, tell, we, table, hear, page, again, want, why, glad, dialog, ref, learn, surprised, how, saw, i, tonight, section, here, supra, show, looks, summarised, remember\n"
     ]
    }
   ],
   "source": [
    "from sklearn.metrics.pairwise import pairwise_distances\n",
    "\n",
    "vector_dir = '/home/sashkamilic/pretrained-vectors/sgns/'\n",
    "\n",
    "word_vectors = {}\n",
    "\n",
    "word_vectors[1900] = np.load(vector_dir + '1900-w.npy'), np.load(vector_dir + '1900-vocab.pkl')\n",
    "word_vectors[1990] = np.load(vector_dir + '1990-w.npy'), np.load(vector_dir + '1990-vocab.pkl')\n",
    "\n",
    "for w in ['new', 'breasts', 'mouth', 'horn', 'see']:\n",
    "    for year in [1900, 1990]:\n",
    "        print(\"{} in {}\".format(w.upper(), year))\n",
    "        vecs, vocab = word_vectors[year]\n",
    "        res = pairwise_distances([vecs[vocab.index(w)]], vecs, metric='cosine')[0]\n",
    "        indices = sorted(range(len(res)), key=lambda k: res[k])\n",
    "        print(', '.join(np.array(vocab)[indices[:30]]))"
   ]
  }
 ],
 "metadata": {
  "kernelspec": {
   "display_name": "Python 3",
   "language": "python",
   "name": "python3"
  },
  "language_info": {
   "codemirror_mode": {
    "name": "ipython",
    "version": 3
   },
   "file_extension": ".py",
   "mimetype": "text/x-python",
   "name": "python",
   "nbconvert_exporter": "python",
   "pygments_lexer": "ipython3",
   "version": "3.6.4"
  }
 },
 "nbformat": 4,
 "nbformat_minor": 2
}
